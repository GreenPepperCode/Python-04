{
 "cells": [
  {
   "cell_type": "markdown",
   "metadata": {},
   "source": [
    "Step 01"
   ]
  },
  {
   "cell_type": "code",
   "execution_count": 1,
   "metadata": {},
   "outputs": [],
   "source": [
    "client_1 ={}"
   ]
  },
  {
   "cell_type": "markdown",
   "metadata": {},
   "source": [
    "Step 02"
   ]
  },
  {
   "cell_type": "code",
   "execution_count": 8,
   "metadata": {},
   "outputs": [],
   "source": [
    "client_1['Nom'] = input(\"Entrez le nom du client 1: \")\n",
    "client_1['Prénom'] = input(\"Entrez le prénom du client 1: \")\n",
    "client_1['Sexe'] = input(\"Entrez le sexe du client 1 (M/F): \")\n",
    "client_1['Solde'] = int(input(\"Entrez le solde du client 1: \"))"
   ]
  },
  {
   "cell_type": "markdown",
   "metadata": {},
   "source": [
    "Step 03"
   ]
  },
  {
   "cell_type": "code",
   "execution_count": 10,
   "metadata": {},
   "outputs": [],
   "source": [
    "nombre_de_clients = 13  # Total de clients, incluant le client1\n",
    "nombre_de_cles = int(input(\"Combien de clés voulez-vous pour chaque client ? \"))\n",
    "\n",
    "# Demander à l'utilisateur de saisir les noms des clés\n",
    "cles = []\n",
    "for i in range(nombre_de_cles):\n",
    "    cle = input(f\"Entrez le nom de la clé {i + 1}: \")\n",
    "    cles.append(cle)\n",
    "\n",
    "# Créer une liste de clients avec ces clés\n",
    "clients = [client_1]  # Inclut le client1 déjà créé\n",
    "for _ in range(nombre_de_clients - 1):\n",
    "    client = {cle: '' for cle in cles}\n",
    "    clients.append(client)\n",
    "\n",
    "# Note: Les valeurs sont initialisées à des chaînes vides pour l'instant.\n"
   ]
  },
  {
   "cell_type": "markdown",
   "metadata": {},
   "source": [
    "Step 04"
   ]
  },
  {
   "cell_type": "code",
   "execution_count": 6,
   "metadata": {},
   "outputs": [
    {
     "name": "stdout",
     "output_type": "stream",
     "text": [
      "Client 2:\n",
      "Client 3:\n",
      "Client 4:\n",
      "Client 5:\n",
      "Client 6:\n",
      "Client 7:\n",
      "Client 8:\n",
      "Client 9:\n",
      "Client 10:\n"
     ]
    },
    {
     "ename": "ValueError",
     "evalue": "invalid literal for int() with base 10: ''",
     "output_type": "error",
     "traceback": [
      "\u001b[1;31m---------------------------------------------------------------------------\u001b[0m",
      "\u001b[1;31mValueError\u001b[0m                                Traceback (most recent call last)",
      "\u001b[1;32mc:\\Users\\yzi\\Desktop\\Travaux\\Python-04\\workshop.ipynb Cellule 8\u001b[0m line \u001b[0;36m5\n\u001b[0;32m      <a href='vscode-notebook-cell:/c%3A/Users/yzi/Desktop/Travaux/Python-04/workshop.ipynb#X12sZmlsZQ%3D%3D?line=2'>3</a>\u001b[0m \u001b[39mfor\u001b[39;00m attribut \u001b[39min\u001b[39;00m client:\n\u001b[0;32m      <a href='vscode-notebook-cell:/c%3A/Users/yzi/Desktop/Travaux/Python-04/workshop.ipynb#X12sZmlsZQ%3D%3D?line=3'>4</a>\u001b[0m     \u001b[39mif\u001b[39;00m attribut \u001b[39m==\u001b[39m \u001b[39m'\u001b[39m\u001b[39mSolde\u001b[39m\u001b[39m'\u001b[39m:\n\u001b[1;32m----> <a href='vscode-notebook-cell:/c%3A/Users/yzi/Desktop/Travaux/Python-04/workshop.ipynb#X12sZmlsZQ%3D%3D?line=4'>5</a>\u001b[0m         client[attribut] \u001b[39m=\u001b[39m \u001b[39mint\u001b[39;49m(\u001b[39minput\u001b[39;49m(\u001b[39mf\u001b[39;49m\u001b[39m\"\u001b[39;49m\u001b[39mEntrez \u001b[39;49m\u001b[39m{\u001b[39;49;00mattribut\u001b[39m}\u001b[39;49;00m\u001b[39m du client \u001b[39;49m\u001b[39m{\u001b[39;49;00mi\u001b[39m}\u001b[39;49;00m\u001b[39m: \u001b[39;49m\u001b[39m\"\u001b[39;49m))\n\u001b[0;32m      <a href='vscode-notebook-cell:/c%3A/Users/yzi/Desktop/Travaux/Python-04/workshop.ipynb#X12sZmlsZQ%3D%3D?line=5'>6</a>\u001b[0m     \u001b[39melse\u001b[39;00m:\n\u001b[0;32m      <a href='vscode-notebook-cell:/c%3A/Users/yzi/Desktop/Travaux/Python-04/workshop.ipynb#X12sZmlsZQ%3D%3D?line=6'>7</a>\u001b[0m         client[attribut] \u001b[39m=\u001b[39m \u001b[39minput\u001b[39m(\u001b[39mf\u001b[39m\u001b[39m\"\u001b[39m\u001b[39mEntrez \u001b[39m\u001b[39m{\u001b[39;00mattribut\u001b[39m}\u001b[39;00m\u001b[39m du client \u001b[39m\u001b[39m{\u001b[39;00mi\u001b[39m}\u001b[39;00m\u001b[39m: \u001b[39m\u001b[39m\"\u001b[39m)\n",
      "\u001b[1;31mValueError\u001b[0m: invalid literal for int() with base 10: ''"
     ]
    }
   ],
   "source": [
    "for i, client in enumerate(clients[1:], start=2):  # Débute à partir du deuxième client\n",
    "    print(f\"Client {i}:\")\n",
    "    for attribut in client:\n",
    "        if attribut == 'Solde':\n",
    "            client[attribut] = int(input(f\"Entrez {attribut} du client {i}: \"))\n",
    "        else:\n",
    "            client[attribut] = input(f\"Entrez {attribut} du client {i}: \")\n",
    "\n",
    "\n"
   ]
  }
 ],
 "metadata": {
  "kernelspec": {
   "display_name": "Python 3",
   "language": "python",
   "name": "python3"
  },
  "language_info": {
   "codemirror_mode": {
    "name": "ipython",
    "version": 3
   },
   "file_extension": ".py",
   "mimetype": "text/x-python",
   "name": "python",
   "nbconvert_exporter": "python",
   "pygments_lexer": "ipython3",
   "version": "3.12.0"
  }
 },
 "nbformat": 4,
 "nbformat_minor": 2
}
