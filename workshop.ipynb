{
 "cells": [
  {
   "cell_type": "markdown",
   "metadata": {},
   "source": [
    "Step 01"
   ]
  },
  {
   "cell_type": "code",
   "execution_count": 1,
   "metadata": {},
   "outputs": [],
   "source": [
    "client_1 ={}"
   ]
  },
  {
   "cell_type": "markdown",
   "metadata": {},
   "source": [
    "Step 02"
   ]
  },
  {
   "cell_type": "code",
   "execution_count": 8,
   "metadata": {},
   "outputs": [],
   "source": [
    "client_1['Nom'] = input(\"Entrez le nom du client 1: \")\n",
    "client_1['Prénom'] = input(\"Entrez le prénom du client 1: \")\n",
    "client_1['Sexe'] = input(\"Entrez le sexe du client 1 (M/F): \")\n",
    "client_1['Solde'] = int(input(\"Entrez le solde du client 1: \"))"
   ]
  },
  {
   "cell_type": "markdown",
   "metadata": {},
   "source": [
    "Step 03"
   ]
  },
  {
   "cell_type": "code",
   "execution_count": 10,
   "metadata": {},
   "outputs": [],
   "source": [
    "nombre_de_clients = 13  # Total de clients, incluant le client1\n",
    "nombre_de_cles = int(input(\"Combien de clés voulez-vous pour chaque client ? \"))\n",
    "\n",
    "# Demander à l'utilisateur de saisir les noms des clés\n",
    "cles = []\n",
    "for i in range(nombre_de_cles):\n",
    "    cle = input(f\"Entrez le nom de la clé {i + 1}: \")\n",
    "    cles.append(cle)\n",
    "\n",
    "# Créer une liste de clients avec ces clés\n",
    "clients = [client_1]  # Inclut le client1 déjà créé\n",
    "for _ in range(nombre_de_clients - 1):\n",
    "    client = {cle: '' for cle in cles}\n",
    "    clients.append(client)\n",
    "\n",
    "# Note: Les valeurs sont initialisées à des chaînes vides pour l'instant.\n"
   ]
  },
  {
   "cell_type": "markdown",
   "metadata": {},
   "source": [
    "Step 04"
   ]
  },
  {
   "cell_type": "code",
   "execution_count": 11,
   "metadata": {},
   "outputs": [
    {
     "name": "stdout",
     "output_type": "stream",
     "text": [
      "Client 2:\n",
      "Client 3:\n",
      "Client 4:\n",
      "Client 5:\n",
      "Client 6:\n",
      "Client 7:\n",
      "Client 8:\n",
      "Client 9:\n",
      "Client 10:\n",
      "Client 11:\n",
      "Client 12:\n",
      "Client 13:\n"
     ]
    }
   ],
   "source": [
    "# On saute le client1 si ses données ont déjà été remplies\n",
    "for i, client in enumerate(clients[1:], start=2):\n",
    "    print(f\"Client {i}:\")\n",
    "    for cle in cles:\n",
    "        if cle.lower() == 'solde':  # Si la clé est 'Solde', convertir la valeur en int\n",
    "            client[cle] = int(input(f\"Entrez {cle} du client {i}: \"))\n",
    "        else:\n",
    "            client[cle] = input(f\"Entrez {cle} du client {i}: \")\n",
    "\n"
   ]
  },
  {
   "cell_type": "markdown",
   "metadata": {},
   "source": [
    "Step 05"
   ]
  },
  {
   "cell_type": "code",
   "execution_count": null,
   "metadata": {},
   "outputs": [],
   "source": [
    "# Cette étape suppose que la clé 'Solde' existe pour tous les clients\n",
    "if 'Solde' in cles:\n",
    "    clients[3]['Solde'] -= 500\n"
   ]
  },
  {
   "cell_type": "markdown",
   "metadata": {},
   "source": [
    "Step 06"
   ]
  }
 ],
 "metadata": {
  "kernelspec": {
   "display_name": "Python 3",
   "language": "python",
   "name": "python3"
  },
  "language_info": {
   "codemirror_mode": {
    "name": "ipython",
    "version": 3
   },
   "file_extension": ".py",
   "mimetype": "text/x-python",
   "name": "python",
   "nbconvert_exporter": "python",
   "pygments_lexer": "ipython3",
   "version": "3.12.0"
  }
 },
 "nbformat": 4,
 "nbformat_minor": 2
}
