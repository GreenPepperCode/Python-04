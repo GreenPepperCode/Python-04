{
 "cells": [
  {
   "cell_type": "markdown",
   "metadata": {},
   "source": [
    "Step 01"
   ]
  },
  {
   "cell_type": "code",
   "execution_count": 1,
   "metadata": {},
   "outputs": [],
   "source": [
    "client_1 ={}"
   ]
  },
  {
   "cell_type": "markdown",
   "metadata": {},
   "source": [
    "Step 02"
   ]
  },
  {
   "cell_type": "code",
   "execution_count": 8,
   "metadata": {},
   "outputs": [],
   "source": [
    "client_1['Nom'] = input(\"Entrez le nom du client 1: \")\n",
    "client_1['Prénom'] = input(\"Entrez le prénom du client 1: \")\n",
    "client_1['Sexe'] = input(\"Entrez le sexe du client 1 (M/F): \")\n",
    "client_1['Solde'] = int(input(\"Entrez le solde du client 1: \"))"
   ]
  },
  {
   "cell_type": "markdown",
   "metadata": {},
   "source": [
    "Step 03"
   ]
  },
  {
   "cell_type": "code",
   "execution_count": 10,
   "metadata": {},
   "outputs": [],
   "source": [
    "nombre_de_clients = 13  # Total de clients, incluant le client1\n",
    "nombre_de_cles = int(input(\"Combien de clés voulez-vous pour chaque client ? \"))\n",
    "\n",
    "# Demander à l'utilisateur de saisir les noms des clés\n",
    "cles = []\n",
    "for i in range(nombre_de_cles):\n",
    "    cle = input(f\"Entrez le nom de la clé {i + 1}: \")\n",
    "    cles.append(cle)\n",
    "\n",
    "# Créer une liste de clients avec ces clés\n",
    "clients = [client_1]  # Inclut le client1 déjà créé\n",
    "for _ in range(nombre_de_clients - 1):\n",
    "    client = {cle: '' for cle in cles}\n",
    "    clients.append(client)\n",
    "\n",
    "# Note: Les valeurs sont initialisées à des chaînes vides pour l'instant.\n"
   ]
  },
  {
   "cell_type": "markdown",
   "metadata": {},
   "source": [
    "Step 04"
   ]
  },
  {
   "cell_type": "code",
   "execution_count": 11,
   "metadata": {},
   "outputs": [
    {
     "name": "stdout",
     "output_type": "stream",
     "text": [
      "Client 2:\n",
      "Client 3:\n",
      "Client 4:\n",
      "Client 5:\n",
      "Client 6:\n",
      "Client 7:\n",
      "Client 8:\n",
      "Client 9:\n",
      "Client 10:\n",
      "Client 11:\n",
      "Client 12:\n",
      "Client 13:\n"
     ]
    }
   ],
   "source": [
    "# On saute le client1 si ses données ont déjà été remplies\n",
    "for i, client in enumerate(clients[1:], start=2):\n",
    "    print(f\"Client {i}:ajouter avec succès\")\n",
    "    for cle in cles:\n",
    "        if cle.lower() == 'solde':  # Si la clé est 'Solde', convertir la valeur en int\n",
    "            client[cle] = int(input(f\"Entrez {cle} du client {i}: \"))\n",
    "        else:\n",
    "            client[cle] = input(f\"Entrez {cle} du client {i}: \")\n",
    "\n"
   ]
  },
  {
   "cell_type": "markdown",
   "metadata": {},
   "source": [
    "Step 05"
   ]
  },
  {
   "cell_type": "code",
   "execution_count": 12,
   "metadata": {},
   "outputs": [],
   "source": [
    "# Cette étape suppose que la clé 'Solde' existe pour tous les clients\n",
    "if 'Solde' in cles:\n",
    "    clients[3]['Solde'] -= 500\n"
   ]
  },
  {
   "cell_type": "markdown",
   "metadata": {},
   "source": [
    "Step 06"
   ]
  },
  {
   "cell_type": "code",
   "execution_count": 13,
   "metadata": {},
   "outputs": [
    {
     "name": "stdout",
     "output_type": "stream",
     "text": [
      "Solde total : 42500 euros\n"
     ]
    }
   ],
   "source": [
    "# Cette étape suppose également que la clé 'Solde' existe\n",
    "if 'Solde' in cles:\n",
    "    solde_total = sum(client['Solde'] for client in clients)\n",
    "    print(f\"Solde total : {solde_total} euros\")\n"
   ]
  },
  {
   "cell_type": "markdown",
   "metadata": {},
   "source": [
    "Step 07"
   ]
  },
  {
   "cell_type": "code",
   "execution_count": 14,
   "metadata": {},
   "outputs": [
    {
     "name": "stdout",
     "output_type": "stream",
     "text": [
      "Nombre de clients féminins : 1, Nombre de clients masculins : 12\n"
     ]
    }
   ],
   "source": [
    "# Supposons que la clé 'Sexe' existe\n",
    "if 'Sexe' in cles:\n",
    "    nb_femmes = sum(1 for client in clients if client['Sexe'] == 'F')\n",
    "    nb_hommes = sum(1 for client in clients if client['Sexe'] == 'M')\n",
    "    print(f\"Nombre de clients féminins : {nb_femmes}, Nombre de clients masculins : {nb_hommes}\")\n"
   ]
  },
  {
   "cell_type": "markdown",
   "metadata": {},
   "source": [
    "Step 08"
   ]
  },
  {
   "cell_type": "code",
   "execution_count": 17,
   "metadata": {},
   "outputs": [
    {
     "name": "stdout",
     "output_type": "stream",
     "text": [
      "\n",
      "Nouveau client ajouté :\n",
      "Nom: Kurdy\n",
      "Prénom: Bassam\n",
      "Sexe: M\n",
      "Solde: 2000\n"
     ]
    }
   ],
   "source": [
    "# Créer un nouveau client avec des valeurs initiales pour chaque clé\n",
    "nouveau_client = {cle: input(f\"Entrez {cle} du nouveau client: \") for cle in cles}\n",
    "if 'Solde' in cles:\n",
    "    nouveau_client['Solde'] = int(nouveau_client['Solde'])\n",
    "clients.append(nouveau_client)\n",
    "\n",
    "# Afficher les informations du nouveau client\n",
    "print(\"\\nNouveau client ajouté :\")\n",
    "for cle, valeur in nouveau_client.items():\n",
    "    print(f\"{cle}: {valeur}\")\n"
   ]
  },
  {
   "cell_type": "markdown",
   "metadata": {},
   "source": [
    "Bonus Step !"
   ]
  },
  {
   "cell_type": "code",
   "execution_count": 6,
   "metadata": {},
   "outputs": [
    {
     "name": "stdout",
     "output_type": "stream",
     "text": [
      "La factorielle de 1000 est : 402387260077093773543702433923003985719374864210714632543799910429938512398629020592044208486969404800479988610197196058631666872994808558901323829669944590997424504087073759918823627727188732519779505950995276120874975462497043601418278094646496291056393887437886487337119181045825783647849977012476632889835955735432513185323958463075557409114262417474349347553428646576611667797396668820291207379143853719588249808126867838374559731746136085379534524221586593201928090878297308431392844403281231558611036976801357304216168747609675871348312025478589320767169132448426236131412508780208000261683151027341827977704784635868170164365024153691398281264810213092761244896359928705114964975419909342221566832572080821333186116811553615836546984046708975602900950537616475847728421889679646244945160765353408198901385442487984959953319101723355556602139450399736280750137837615307127761926849034352625200015888535147331611702103968175921510907788019393178114194545257223865541461062892187960223838971476088506276862967146674697562911234082439208160153780889893964518263243671616762179168909779911903754031274622289988005195444414282012187361745992642956581746628302955570299024324153181617210465832036786906117260158783520751516284225540265170483304226143974286933061690897968482590125458327168226458066526769958652682272807075781391858178889652208164348344825993266043367660176999612831860788386150279465955131156552036093988180612138558600301435694527224206344631797460594682573103790084024432438465657245014402821885252470935190620929023136493273497565513958720559654228749774011413346962715422845862377387538230483865688976461927383814900140767310446640259899490222221765904339901886018566526485061799702356193897017860040811889729918311021171229845901641921068884387121855646124960798722908519296819372388642614839657382291123125024186649353143970137428531926649875337218940694281434118520158014123344828015051399694290153483077644569099073152433278288269864602789864321139083506217095002597389863554277196742822248757586765752344220207573630569498825087968928162753848863396909959826280956121450994871701244516461260379029309120889086942028510640182154399457156805941872748998094254742173582401063677404595741785160829230135358081840096996372524230560855903700624271243416909004153690105933983835777939410970027753472000000000000000000000000000000000000000000000000000000000000000000000000000000000000000000000000000000000000000000000000000000000000000000000000000000000000000000000000000000000000000000000000000000000000000000000000000000000000000000000000000000000\n"
     ]
    },
    {
     "data": {
      "text/plain": [
       "402387260077093773543702433923003985719374864210714632543799910429938512398629020592044208486969404800479988610197196058631666872994808558901323829669944590997424504087073759918823627727188732519779505950995276120874975462497043601418278094646496291056393887437886487337119181045825783647849977012476632889835955735432513185323958463075557409114262417474349347553428646576611667797396668820291207379143853719588249808126867838374559731746136085379534524221586593201928090878297308431392844403281231558611036976801357304216168747609675871348312025478589320767169132448426236131412508780208000261683151027341827977704784635868170164365024153691398281264810213092761244896359928705114964975419909342221566832572080821333186116811553615836546984046708975602900950537616475847728421889679646244945160765353408198901385442487984959953319101723355556602139450399736280750137837615307127761926849034352625200015888535147331611702103968175921510907788019393178114194545257223865541461062892187960223838971476088506276862967146674697562911234082439208160153780889893964518263243671616762179168909779911903754031274622289988005195444414282012187361745992642956581746628302955570299024324153181617210465832036786906117260158783520751516284225540265170483304226143974286933061690897968482590125458327168226458066526769958652682272807075781391858178889652208164348344825993266043367660176999612831860788386150279465955131156552036093988180612138558600301435694527224206344631797460594682573103790084024432438465657245014402821885252470935190620929023136493273497565513958720559654228749774011413346962715422845862377387538230483865688976461927383814900140767310446640259899490222221765904339901886018566526485061799702356193897017860040811889729918311021171229845901641921068884387121855646124960798722908519296819372388642614839657382291123125024186649353143970137428531926649875337218940694281434118520158014123344828015051399694290153483077644569099073152433278288269864602789864321139083506217095002597389863554277196742822248757586765752344220207573630569498825087968928162753848863396909959826280956121450994871701244516461260379029309120889086942028510640182154399457156805941872748998094254742173582401063677404595741785160829230135358081840096996372524230560855903700624271243416909004153690105933983835777939410970027753472000000000000000000000000000000000000000000000000000000000000000000000000000000000000000000000000000000000000000000000000000000000000000000000000000000000000000000000000000000000000000000000000000000000000000000000000000000000000000000000000000000000"
      ]
     },
     "execution_count": 6,
     "metadata": {},
     "output_type": "execute_result"
    }
   ],
   "source": [
    "def factorielle(n):\n",
    "    if n == 0 :\n",
    "        return 1\n",
    "    else:\n",
    "        return n * factorielle(n - 1)\n",
    "\n",
    "# Test de la fonction\n",
    "n = 1000\n",
    "print(f\"La factorielle de {n} est : {factorielle(n)}\")\n",
    "\n",
    "factorielle(n)"
   ]
  },
  {
   "cell_type": "markdown",
   "metadata": {},
   "source": [
    "💀 Méga Hard Bonus !!! 💀"
   ]
  },
  {
   "cell_type": "code",
   "execution_count": 3,
   "metadata": {},
   "outputs": [
    {
     "name": "stdout",
     "output_type": "stream",
     "text": [
      "Index: 0, Client: Nom: Dupon\n",
      "Prénom: Toto\n",
      "Sexe: M\n",
      "Solde: 3571\n",
      "\n",
      "Index: 1, Client: Nom: Brindacier\n",
      "Prénom: Fifi\n",
      "Sexe: F\n",
      "Solde: 6534\n",
      "\n",
      "Index: 2, Client: Nom: Agu\n",
      "Prénom: Patrick\n",
      "Sexe: M\n",
      "Solde: 6381\n",
      "\n",
      "Index: 3, Client: Nom: Ramnie\n",
      "Prénom: Lisa\n",
      "Sexe: F\n",
      "Solde: 9524\n",
      "\n",
      "\n",
      "Menu Principal\n",
      "1: Créer et saisir les données des clients\n",
      "2: Supprimer un client par index\n",
      "3: Modifier le solde d'un client\n",
      "4: Afficher la liste des clients\n",
      "5: Quitter\n",
      "Index: 0, Client: Nom: Dupon\n",
      "Prénom: Toto\n",
      "Sexe: M\n",
      "Solde: 3571\n",
      "\n",
      "Index: 1, Client: Nom: Brindacier\n",
      "Prénom: Fifi\n",
      "Sexe: F\n",
      "Solde: 6534\n",
      "\n",
      "Index: 2, Client: Nom: Agu\n",
      "Prénom: Patrick\n",
      "Sexe: M\n",
      "Solde: 6381\n",
      "\n",
      "Index: 3, Client: Nom: Ramnie\n",
      "Prénom: Lisa\n",
      "Sexe: F\n",
      "Solde: 9524\n",
      "\n",
      "\n",
      "Menu Principal\n",
      "1: Créer et saisir les données des clients\n",
      "2: Supprimer un client par index\n",
      "3: Modifier le solde d'un client\n",
      "4: Afficher la liste des clients\n",
      "5: Quitter\n",
      "Fin du programme.\n"
     ]
    }
   ],
   "source": [
    "import xml.etree.ElementTree as ET\n",
    "\n",
    "def sauvegarder_donnees_xml(clients, fichier='clients.xml'):\n",
    "    if not clients:\n",
    "        print(\"Aucun client à sauvegarder.\")\n",
    "        return\n",
    "    root = ET.Element(\"clients\")\n",
    "    for client in clients:\n",
    "        client_element = ET.SubElement(root, \"client\")\n",
    "        for cle, valeur in client.items():\n",
    "            ET.SubElement(client_element, cle).text = str(valeur)\n",
    "    tree = ET.ElementTree(root)\n",
    "    tree.write(fichier)\n",
    "\n",
    "def charger_donnees_xml(fichier='clients.xml'):\n",
    "    try:\n",
    "        tree = ET.parse(fichier)\n",
    "        root = tree.getroot()\n",
    "        if not list(root):  # Vérifie si root est vide\n",
    "            return []\n",
    "        return [{elem.tag: elem.text for elem in client} for client in root]\n",
    "    except FileNotFoundError:\n",
    "        return []\n",
    "\n",
    "def creer_et_saisir_clients():\n",
    "    nombre_de_clients = int(input(\"Combien de clients voulez-vous créer ? \"))\n",
    "    nombre_de_cles = int(input(\"Combien de clés voulez-vous pour chaque client ? \"))\n",
    "\n",
    "    cles = [input(f\"Entrez le nom de la clé {i + 1}: \") for i in range(nombre_de_cles)]\n",
    "    \n",
    "    clients = []\n",
    "    for i in range(nombre_de_clients):\n",
    "        print(f\"\\nCréation du client {i + 1}:\")\n",
    "        client = {}\n",
    "        for cle in cles:\n",
    "            valeur = input(f\"Entrez {cle} pour ce client: \")\n",
    "            client[cle] = int(valeur) if cle.lower() == 'solde' else valeur\n",
    "        clients.append(client)\n",
    "\n",
    "    return clients\n",
    "\n",
    "def afficher_clients(clients):\n",
    "    for index, client in enumerate(clients):\n",
    "        print(f\"Index: {index}, Client: \", end=\"\")\n",
    "        afficher_client(client)\n",
    "\n",
    "def ajouter_client(clients, cles):\n",
    "    nouveau_client = {cle: input(f\"Entrez {cle} du nouveau client: \") for cle in cles}\n",
    "    if 'Solde' in cles:\n",
    "        nouveau_client['Solde'] = int(nouveau_client['Solde'])\n",
    "    clients.append(nouveau_client)\n",
    "    print(\"\\nNouveau client ajouté :\")\n",
    "    afficher_client(nouveau_client)\n",
    "    \n",
    "def supprimer_client_par_index(clients):\n",
    "    index = int(input(\"Entrez l'index du client à supprimer: \"))\n",
    "    if 0 <= index < len(clients):\n",
    "        client_supprime = clients.pop(index)\n",
    "        print(\"Client supprimé :\")\n",
    "        afficher_client(client_supprime)\n",
    "    else:\n",
    "        print(\"Index invalide.\")\n",
    "\n",
    "def modifier_solde_client(clients):\n",
    "    index = int(input(\"Entrez l'index du client dont vous voulez modifier le solde: \"))\n",
    "    if 0 <= index < len(clients) and 'Solde' in clients[index]:\n",
    "        nouveau_solde = int(input(\"Entrez le nouveau solde: \"))\n",
    "        clients[index]['Solde'] = nouveau_solde\n",
    "        print(\"Solde modifié.\")\n",
    "    else:\n",
    "        print(\"Index invalide ou client sans solde.\")\n",
    "\n",
    "def afficher_client(client):\n",
    "    for cle, valeur in client.items():\n",
    "        print(f\"{cle}: {valeur}\")\n",
    "    print()\n",
    "\n",
    "def main():\n",
    "    # Charger les données au démarrage du programme\n",
    "    clients = charger_donnees_xml()\n",
    "\n",
    "    choix = '0'\n",
    "    while choix != '5':  # Modifier ici pour quitter sur le choix '5'\n",
    "        print(\"\\nMenu Principal\")\n",
    "        print(\"1: Créer et saisir les données des clients\")\n",
    "        print(\"2: Supprimer un client par index\")\n",
    "        print(\"3: Modifier le solde d'un client\")\n",
    "        print(\"4: Afficher la liste des clients\")\n",
    "        print(\"5: Quitter\")\n",
    "        choix = input(\"Entrez votre choix: \")\n",
    "\n",
    "        if choix == '1':\n",
    "            clients = creer_et_saisir_clients()\n",
    "        elif choix == '2':\n",
    "            if not clients:\n",
    "                print(\"Aucun client à supprimer.\")\n",
    "            else:\n",
    "                supprimer_client_par_index(clients)\n",
    "        elif choix == '3':\n",
    "            if not clients:\n",
    "                print(\"Aucun client pour modifier le solde.\")\n",
    "            else:\n",
    "                modifier_solde_client(clients)\n",
    "        elif choix == '4':\n",
    "            if not clients:\n",
    "                print(\"Aucun client à afficher.\")\n",
    "            else:\n",
    "                afficher_clients(clients)\n",
    "        elif choix == '5':\n",
    "            # Sauvegarder les données avant de quitter le programme\n",
    "            sauvegarder_donnees_xml(clients)\n",
    "            print(\"Fin du programme.\")\n",
    "        else:\n",
    "            print(\"Choix invalide.\")\n",
    "\n",
    "if __name__ == \"__main__\":\n",
    "    main()"
   ]
  }
 ],
 "metadata": {
  "kernelspec": {
   "display_name": "Python 3",
   "language": "python",
   "name": "python3"
  },
  "language_info": {
   "codemirror_mode": {
    "name": "ipython",
    "version": 3
   },
   "file_extension": ".py",
   "mimetype": "text/x-python",
   "name": "python",
   "nbconvert_exporter": "python",
   "pygments_lexer": "ipython3",
   "version": "3.12.0"
  }
 },
 "nbformat": 4,
 "nbformat_minor": 2
}
