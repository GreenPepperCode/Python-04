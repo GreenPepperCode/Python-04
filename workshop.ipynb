{
 "cells": [
  {
   "cell_type": "markdown",
   "metadata": {},
   "source": [
    "Step 01"
   ]
  },
  {
   "cell_type": "code",
   "execution_count": 1,
   "metadata": {},
   "outputs": [],
   "source": [
    "client_1 ={}"
   ]
  },
  {
   "cell_type": "markdown",
   "metadata": {},
   "source": [
    "Step 02"
   ]
  },
  {
   "cell_type": "code",
   "execution_count": 8,
   "metadata": {},
   "outputs": [],
   "source": [
    "client_1['Nom'] = input(\"Entrez le nom du client 1: \")\n",
    "client_1['Prénom'] = input(\"Entrez le prénom du client 1: \")\n",
    "client_1['Sexe'] = input(\"Entrez le sexe du client 1 (M/F): \")\n",
    "client_1['Solde'] = int(input(\"Entrez le solde du client 1: \"))"
   ]
  },
  {
   "cell_type": "markdown",
   "metadata": {},
   "source": [
    "Step 03"
   ]
  },
  {
   "cell_type": "code",
   "execution_count": 10,
   "metadata": {},
   "outputs": [],
   "source": [
    "nombre_de_clients = 13  # Total de clients, incluant le client1\n",
    "nombre_de_cles = int(input(\"Combien de clés voulez-vous pour chaque client ? \"))\n",
    "\n",
    "# Demander à l'utilisateur de saisir les noms des clés\n",
    "cles = []\n",
    "for i in range(nombre_de_cles):\n",
    "    cle = input(f\"Entrez le nom de la clé {i + 1}: \")\n",
    "    cles.append(cle)\n",
    "\n",
    "# Créer une liste de clients avec ces clés\n",
    "clients = [client_1]  # Inclut le client1 déjà créé\n",
    "for _ in range(nombre_de_clients - 1):\n",
    "    client = {cle: '' for cle in cles}\n",
    "    clients.append(client)\n",
    "\n",
    "# Note: Les valeurs sont initialisées à des chaînes vides pour l'instant.\n"
   ]
  },
  {
   "cell_type": "markdown",
   "metadata": {},
   "source": [
    "Step 04"
   ]
  },
  {
   "cell_type": "code",
   "execution_count": 11,
   "metadata": {},
   "outputs": [
    {
     "name": "stdout",
     "output_type": "stream",
     "text": [
      "Client 2:\n",
      "Client 3:\n",
      "Client 4:\n",
      "Client 5:\n",
      "Client 6:\n",
      "Client 7:\n",
      "Client 8:\n",
      "Client 9:\n",
      "Client 10:\n",
      "Client 11:\n",
      "Client 12:\n",
      "Client 13:\n"
     ]
    }
   ],
   "source": [
    "# On saute le client1 si ses données ont déjà été remplies\n",
    "for i, client in enumerate(clients[1:], start=2):\n",
    "    print(f\"Client {i}:ajouter avec succès\")\n",
    "    for cle in cles:\n",
    "        if cle.lower() == 'solde':  # Si la clé est 'Solde', convertir la valeur en int\n",
    "            client[cle] = int(input(f\"Entrez {cle} du client {i}: \"))\n",
    "        else:\n",
    "            client[cle] = input(f\"Entrez {cle} du client {i}: \")\n",
    "\n"
   ]
  },
  {
   "cell_type": "markdown",
   "metadata": {},
   "source": [
    "Step 05"
   ]
  },
  {
   "cell_type": "code",
   "execution_count": 12,
   "metadata": {},
   "outputs": [],
   "source": [
    "# Cette étape suppose que la clé 'Solde' existe pour tous les clients\n",
    "if 'Solde' in cles:\n",
    "    clients[3]['Solde'] -= 500\n"
   ]
  },
  {
   "cell_type": "markdown",
   "metadata": {},
   "source": [
    "Step 06"
   ]
  },
  {
   "cell_type": "code",
   "execution_count": 13,
   "metadata": {},
   "outputs": [
    {
     "name": "stdout",
     "output_type": "stream",
     "text": [
      "Solde total : 42500 euros\n"
     ]
    }
   ],
   "source": [
    "# Cette étape suppose également que la clé 'Solde' existe\n",
    "if 'Solde' in cles:\n",
    "    solde_total = sum(client['Solde'] for client in clients)\n",
    "    print(f\"Solde total : {solde_total} euros\")\n"
   ]
  },
  {
   "cell_type": "markdown",
   "metadata": {},
   "source": [
    "Step 07"
   ]
  },
  {
   "cell_type": "code",
   "execution_count": 14,
   "metadata": {},
   "outputs": [
    {
     "name": "stdout",
     "output_type": "stream",
     "text": [
      "Nombre de clients féminins : 1, Nombre de clients masculins : 12\n"
     ]
    }
   ],
   "source": [
    "# Supposons que la clé 'Sexe' existe\n",
    "if 'Sexe' in cles:\n",
    "    nb_femmes = sum(1 for client in clients if client['Sexe'] == 'F')\n",
    "    nb_hommes = sum(1 for client in clients if client['Sexe'] == 'M')\n",
    "    print(f\"Nombre de clients féminins : {nb_femmes}, Nombre de clients masculins : {nb_hommes}\")\n"
   ]
  },
  {
   "cell_type": "markdown",
   "metadata": {},
   "source": [
    "Step 08"
   ]
  },
  {
   "cell_type": "code",
   "execution_count": 17,
   "metadata": {},
   "outputs": [
    {
     "name": "stdout",
     "output_type": "stream",
     "text": [
      "\n",
      "Nouveau client ajouté :\n",
      "Nom: Kurdy\n",
      "Prénom: Bassam\n",
      "Sexe: M\n",
      "Solde: 2000\n"
     ]
    }
   ],
   "source": [
    "# Créer un nouveau client avec des valeurs initiales pour chaque clé\n",
    "nouveau_client = {cle: input(f\"Entrez {cle} du nouveau client: \") for cle in cles}\n",
    "if 'Solde' in cles:\n",
    "    nouveau_client['Solde'] = int(nouveau_client['Solde'])\n",
    "clients.append(nouveau_client)\n",
    "\n",
    "# Afficher les informations du nouveau client\n",
    "print(\"\\nNouveau client ajouté :\")\n",
    "for cle, valeur in nouveau_client.items():\n",
    "    print(f\"{cle}: {valeur}\")\n"
   ]
  },
  {
   "cell_type": "markdown",
   "metadata": {},
   "source": [
    "Bonus Step !"
   ]
  },
  {
   "cell_type": "code",
   "execution_count": 18,
   "metadata": {},
   "outputs": [
    {
     "name": "stdout",
     "output_type": "stream",
     "text": [
      "La factorielle de 6 est : 720\n"
     ]
    },
    {
     "data": {
      "text/plain": [
       "720"
      ]
     },
     "execution_count": 18,
     "metadata": {},
     "output_type": "execute_result"
    }
   ],
   "source": [
    "def factorielle(n):\n",
    "    if n == 0 or n == 1:\n",
    "        return 1\n",
    "    else:\n",
    "        return n * factorielle(n - 1)\n",
    "\n",
    "# Test de la fonction\n",
    "n = 6\n",
    "print(f\"La factorielle de {n} est : {factorielle(n)}\")\n",
    "\n",
    "factorielle(6)"
   ]
  },
  {
   "cell_type": "markdown",
   "metadata": {},
   "source": [
    "💀 Méga Hard Bonus !!! 💀"
   ]
  },
  {
   "cell_type": "code",
   "execution_count": 19,
   "metadata": {},
   "outputs": [
    {
     "name": "stdout",
     "output_type": "stream",
     "text": [
      "Index: 0, Client: Prénom: toto\n",
      "Nom: dupont\n",
      "Sexe: M\n",
      "Solde: 6000\n",
      "\n",
      "Index: 1, Client: Prénom: Fifi\n",
      "Nom: Brindacier\n",
      "Sexe: F\n",
      "Solde: 4000\n",
      "\n",
      "Index: 2, Client: Prénom: Bassam\n",
      "Nom: Kurdy\n",
      "Sexe: M\n",
      "Solde: 60000\n",
      "\n",
      "\n",
      "Menu Principal\n",
      "1: Créer les données des clients\n",
      "2: Saisir les données pour les clients\n",
      "3: Supprimer un client par index\n",
      "4: Modifier le solde d'un client\n",
      "5: Afficher la liste des clients\n",
      "6: Quitter\n",
      "Fin du programme.\n"
     ]
    }
   ],
   "source": [
    "def make_data():\n",
    "    nombre_de_clients = int(input(\"Combien de clients voulez-vous créer ? \"))\n",
    "    nombre_de_cles = int(input(\"Combien de clés voulez-vous pour chaque client ? \"))\n",
    "\n",
    "    cles = []\n",
    "    for i in range(nombre_de_cles):\n",
    "        cle = input(f\"Entrez le nom de la clé {i + 1}: \")\n",
    "        cles.append(cle)\n",
    "\n",
    "    clients = []\n",
    "    for _ in range(nombre_de_clients):\n",
    "        client = {cle: '' for cle in cles}\n",
    "        clients.append(client)\n",
    "    \n",
    "    return clients, cles\n",
    "\n",
    "def set_data(clients, cles):\n",
    "    for i, client in enumerate(clients, start=1):\n",
    "        print(f\"\\nClient {i}:\")\n",
    "        for cle in cles:\n",
    "            if cle.lower() == 'solde':\n",
    "                client[cle] = int(input(f\"Entrez {cle} du client {i}: \"))\n",
    "            else:\n",
    "                client[cle] = input(f\"Entrez {cle} du client {i}: \")\n",
    "\n",
    "def afficher_clients(clients):\n",
    "    for index, client in enumerate(clients):\n",
    "        print(f\"Index: {index}, Client: \", end=\"\")\n",
    "        afficher_client(client)\n",
    "\n",
    "def ajouter_client(clients, cles):\n",
    "    nouveau_client = {cle: input(f\"Entrez {cle} du nouveau client: \") for cle in cles}\n",
    "    if 'Solde' in cles:\n",
    "        nouveau_client['Solde'] = int(nouveau_client['Solde'])\n",
    "    clients.append(nouveau_client)\n",
    "    print(\"\\nNouveau client ajouté :\")\n",
    "    afficher_client(nouveau_client)\n",
    "    \n",
    "def supprimer_client_par_index(clients):\n",
    "    index = int(input(\"Entrez l'index du client à supprimer: \"))\n",
    "    if 0 <= index < len(clients):\n",
    "        client_supprime = clients.pop(index)\n",
    "        print(\"Client supprimé :\")\n",
    "        afficher_client(client_supprime)\n",
    "    else:\n",
    "        print(\"Index invalide.\")\n",
    "\n",
    "def modifier_solde_client(clients):\n",
    "    index = int(input(\"Entrez l'index du client dont vous voulez modifier le solde: \"))\n",
    "    if 0 <= index < len(clients) and 'Solde' in clients[index]:\n",
    "        nouveau_solde = int(input(\"Entrez le nouveau solde: \"))\n",
    "        clients[index]['Solde'] = nouveau_solde\n",
    "        print(\"Solde modifié.\")\n",
    "    else:\n",
    "        print(\"Index invalide ou client sans solde.\")\n",
    "\n",
    "def afficher_client(client):\n",
    "    for cle, valeur in client.items():\n",
    "        print(f\"{cle}: {valeur}\")\n",
    "    print()\n",
    "\n",
    "def main():\n",
    "    clients = []\n",
    "    cles = []\n",
    "    choix = '0'\n",
    "\n",
    "    while choix != '6':\n",
    "        print(\"\\nMenu Principal\")\n",
    "        print(\"1: Créer les données des clients\")\n",
    "        print(\"2: Saisir les données pour les clients\")\n",
    "        print(\"3: Supprimer un client par index\")\n",
    "        print(\"4: Modifier le solde d'un client\")\n",
    "        print(\"5: Afficher la liste des clients\")\n",
    "        print(\"6: Quitter\")\n",
    "        choix = input(\"Entrez votre choix: \")\n",
    "\n",
    "        if choix == '1':\n",
    "            clients, cles = make_data()\n",
    "        elif choix == '2':\n",
    "            if not clients:\n",
    "                print(\"Aucun client à saisir. Veuillez d'abord créer des clients.\")\n",
    "            else:\n",
    "                set_data(clients, cles)\n",
    "        elif choix == '3':\n",
    "            if not clients:\n",
    "                print(\"Aucun client à supprimer.\")\n",
    "            else:\n",
    "                supprimer_client_par_index(clients)\n",
    "        elif choix == '4':\n",
    "            if not clients:\n",
    "                print(\"Aucun client pour modifier le solde.\")\n",
    "            else:\n",
    "                modifier_solde_client(clients)\n",
    "        elif choix == '5':\n",
    "            if not clients:\n",
    "                print(\"Aucun client à afficher.\")\n",
    "            else:\n",
    "                afficher_clients(clients)\n",
    "        elif choix == '6':\n",
    "            print(\"Fin du programme.\")\n",
    "        else:\n",
    "            print(\"Choix invalide.\")\n",
    "\n",
    "if __name__ == \"__main__\":\n",
    "    main()\n"
   ]
  }
 ],
 "metadata": {
  "kernelspec": {
   "display_name": "Python 3",
   "language": "python",
   "name": "python3"
  },
  "language_info": {
   "codemirror_mode": {
    "name": "ipython",
    "version": 3
   },
   "file_extension": ".py",
   "mimetype": "text/x-python",
   "name": "python",
   "nbconvert_exporter": "python",
   "pygments_lexer": "ipython3",
   "version": "3.12.0"
  }
 },
 "nbformat": 4,
 "nbformat_minor": 2
}
